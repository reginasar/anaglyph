{
 "cells": [
  {
   "cell_type": "markdown",
   "metadata": {},
   "source": [
    "# Anaglyph\n",
    "\n",
    "In this notebook we create some anaglyph gifs. We visualize the making of the animations by following the camera's trajectory with respect to the particles. \n",
    "\n",
    "First, import the libraries that we'll use."
   ]
  },
  {
   "cell_type": "code",
   "execution_count": 1,
   "metadata": {},
   "outputs": [],
   "source": [
    "from glyph import particles, course\n",
    "import numpy as np\n",
    "#%matplotlib widget #uncomment to draw interactive plots\n",
    "from mpl_toolkits.mplot3d import Axes3D\n",
    "import matplotlib.pyplot as plt"
   ]
  },
  {
   "cell_type": "markdown",
   "metadata": {},
   "source": [
    "Load the particle coordinates. These must be in an [n, 3] array, where n is the number of particles.\n",
    "\n",
    "Then instanciate the data as a 'particles' object.\n",
    "\n",
    "Take into account that the camera will be always be looking at the origin [0,0,0] of the reference frame, So you may want to put your particles around there..."
   ]
  },
  {
   "cell_type": "code",
   "execution_count": 2,
   "metadata": {},
   "outputs": [],
   "source": [
    "data = np.genfromtxt(\"subh_pos_box.dat\")\n",
    "cube = particles(data)"
   ]
  },
  {
   "cell_type": "markdown",
   "metadata": {},
   "source": [
    "### Define the camera trajectory\n",
    "\n",
    "Here comes the fun bit, let's define the trajectory of the camera. \n",
    "\n",
    "First instanciate an object 'course' providing an initial position (3 coord). Then add new trajectories setting the final position and, optionally, the number of steps to go to the new position (defaults to 30 steps).\n",
    "\n",
    "The new trajectories can follow different curves. Currently, the options available are:\n",
    "\n",
    "- 'line': sets an equally-spaced linear trajectory from the initial position to the final one.\n",
    "\n",
    "- 'circle': defines a trajectory over the maximum circle that passes through the initial position and the direction of the final position. Another way of thinking of this is that the camera follows the curve that results from the intersection of the plane defined by th initial and final position, and a sphere centred in the origin with radius |initial_position|\n",
    "\n",
    "After adding a trajectory, its final position becomes the initial one in order to form a continuous trail for the camera."
   ]
  },
  {
   "cell_type": "code",
   "execution_count": 17,
   "metadata": {},
   "outputs": [],
   "source": [
    "vid_cam = course([10, 0 ,5])\n",
    "vid_cam.line([0 ,10, 5], steps=100)\n",
    "vid_cam.line([-10, 0, 5], steps=100)\n",
    "vid_cam.line([0, -10, 5], steps=100)\n",
    "vid_cam.line([10, 0, 5], steps=100)"
   ]
  },
  {
   "cell_type": "markdown",
   "metadata": {},
   "source": [
    "We plot the camera trajectory (starting in purple and finishing in yellow) together with the set of particles. "
   ]
  },
  {
   "cell_type": "code",
   "execution_count": 18,
   "metadata": {},
   "outputs": [
    {
     "data": {
      "application/vnd.jupyter.widget-view+json": {
       "model_id": "8ffc109bb0cf4097a6ecc1dad118b8a0",
       "version_major": 2,
       "version_minor": 0
      },
      "text/plain": [
       "FigureCanvasNbAgg()"
      ]
     },
     "metadata": {},
     "output_type": "display_data"
    }
   ],
   "source": [
    "fig = plt.figure()\n",
    "ax = Axes3D(fig)\n",
    " \n",
    "\n",
    "ax.scatter(vid_cam.trajectory[:,0], vid_cam.trajectory[:,1], vid_cam.trajectory[:,2],\\\n",
    "            c=np.arange(vid_cam.trajectory.shape[0]), s=2)\n",
    "ax.scatter(data[:,0]*1e-4, data[:,1]*1e-4, data[:,2]*1e-4, c='k', s=0.1)\n",
    "\n",
    "ax.set_title(\"trajectory\")\n",
    "ax.set_xlabel(\"x-axis\")\n",
    "ax.set_ylabel(\"y-axis\")\n",
    "ax.set_zlabel(\"z-axis\")\n",
    "\n",
    "plt.show()"
   ]
  },
  {
   "cell_type": "markdown",
   "metadata": {},
   "source": [
    "### Make a 3D-animation\n",
    "\n",
    "The method 'video_3D' of a 'particles' object outputs a gif with the animation. For this, the camera trajectory must be provided ('trajectory' method of a 'course' object, or any [m, 3] array with coordinates)."
   ]
  },
  {
   "cell_type": "code",
   "execution_count": 19,
   "metadata": {},
   "outputs": [
    {
     "data": {
      "application/vnd.jupyter.widget-view+json": {
       "model_id": "8bb8f0383800419882d624b5fdf7f710",
       "version_major": 2,
       "version_minor": 0
      },
      "text/plain": [
       "FigureCanvasNbAgg()"
      ]
     },
     "metadata": {},
     "output_type": "display_data"
    }
   ],
   "source": [
    "cube.video_3D(vid_cam.trajectory, scale=1e-4, popout=3., perspective=1.)"
   ]
  },
  {
   "cell_type": "markdown",
   "metadata": {},
   "source": [
    "### Another example with 'circle' trajectories\n",
    "\n",
    "(Any type of trajectory can be combined)"
   ]
  },
  {
   "cell_type": "code",
   "execution_count": 20,
   "metadata": {},
   "outputs": [],
   "source": [
    "circ_cam = course([5,0,0])\n",
    "circ_cam.circle([0,5,0], 100)\n",
    "circ_cam.circle([0,0,5], 100)\n",
    "circ_cam.circle([5,0,0], 100)"
   ]
  },
  {
   "cell_type": "code",
   "execution_count": 21,
   "metadata": {},
   "outputs": [
    {
     "data": {
      "application/vnd.jupyter.widget-view+json": {
       "model_id": "9a84ecb08be1401d9aaf415ba64fc00e",
       "version_major": 2,
       "version_minor": 0
      },
      "text/plain": [
       "FigureCanvasNbAgg()"
      ]
     },
     "metadata": {},
     "output_type": "display_data"
    }
   ],
   "source": [
    "fig = plt.figure()\n",
    "ax = Axes3D(fig)\n",
    " \n",
    "\n",
    "ax.scatter(circ_cam.trajectory[:,0], circ_cam.trajectory[:,1], circ_cam.trajectory[:,2],\\\n",
    "            c=np.arange(circ_cam.trajectory.shape[0]), s=2)\n",
    "ax.scatter(data[:,0]*1e-4, data[:,1]*1e-4, data[:,2]*1e-4, c='k', s=0.1)\n",
    "\n",
    "ax.set_title(\"trajectory\")\n",
    "ax.set_xlabel(\"x-axis\")\n",
    "ax.set_ylabel(\"y-axis\")\n",
    "ax.set_zlabel(\"z-axis\")\n",
    "\n",
    "plt.show()"
   ]
  },
  {
   "cell_type": "code",
   "execution_count": 22,
   "metadata": {},
   "outputs": [
    {
     "data": {
      "application/vnd.jupyter.widget-view+json": {
       "model_id": "59dfa93e32aa49faa9a7aab0d12cfb01",
       "version_major": 2,
       "version_minor": 0
      },
      "text/plain": [
       "FigureCanvasNbAgg()"
      ]
     },
     "metadata": {},
     "output_type": "display_data"
    }
   ],
   "source": [
    "cube.video_3D(circ_cam.trajectory, scale=1e-4, popout=3., perspective=-1.)"
   ]
  },
  {
   "cell_type": "code",
   "execution_count": null,
   "metadata": {},
   "outputs": [],
   "source": []
  },
  {
   "cell_type": "code",
   "execution_count": null,
   "metadata": {},
   "outputs": [],
   "source": []
  }
 ],
 "metadata": {
  "kernelspec": {
   "display_name": "Python 3",
   "language": "python",
   "name": "python3"
  },
  "language_info": {
   "codemirror_mode": {
    "name": "ipython",
    "version": 3
   },
   "file_extension": ".py",
   "mimetype": "text/x-python",
   "name": "python",
   "nbconvert_exporter": "python",
   "pygments_lexer": "ipython3",
   "version": "3.6.10"
  }
 },
 "nbformat": 4,
 "nbformat_minor": 4
}
