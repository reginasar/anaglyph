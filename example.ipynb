{
 "cells": [
  {
   "cell_type": "code",
   "execution_count": 15,
   "metadata": {},
   "outputs": [],
   "source": [
    "from glyph import particles, course\n",
    "import numpy as np\n",
    "%matplotlib widget\n",
    "from mpl_toolkits.mplot3d import Axes3D\n",
    "import matplotlib.pyplot as plt"
   ]
  },
  {
   "cell_type": "code",
   "execution_count": 16,
   "metadata": {},
   "outputs": [],
   "source": [
    "data = np.genfromtxt(\"subh_pos_box.dat\")\n",
    "cube = particles(data)"
   ]
  },
  {
   "cell_type": "code",
   "execution_count": 17,
   "metadata": {},
   "outputs": [],
   "source": [
    "vid_cam = course([10, 0 ,5])\n",
    "vid_cam.line([0 ,10, 5], steps=100)\n",
    "vid_cam.line([-10, 0, 5], steps=100)\n",
    "vid_cam.line([0, -10, 5], steps=100)\n",
    "vid_cam.line([10, 0, 5], steps=100)"
   ]
  },
  {
   "cell_type": "code",
   "execution_count": 18,
   "metadata": {},
   "outputs": [
    {
     "data": {
      "application/vnd.jupyter.widget-view+json": {
       "model_id": "8ffc109bb0cf4097a6ecc1dad118b8a0",
       "version_major": 2,
       "version_minor": 0
      },
      "text/plain": [
       "FigureCanvasNbAgg()"
      ]
     },
     "metadata": {},
     "output_type": "display_data"
    }
   ],
   "source": [
    "fig = plt.figure()\n",
    "ax = Axes3D(fig)\n",
    " \n",
    "\n",
    "ax.scatter(vid_cam.trajectory[:,0], vid_cam.trajectory[:,1], vid_cam.trajectory[:,2],\\\n",
    "            c=np.arange(vid_cam.trajectory.shape[0]), s=2)\n",
    "ax.scatter(data[:,0]*1e-4, data[:,1]*1e-4, data[:,2]*1e-4, c='k', s=0.1)\n",
    "\n",
    "ax.set_title(\"trajectory\")\n",
    "ax.set_xlabel(\"x-axis\")\n",
    "ax.set_ylabel(\"y-axis\")\n",
    "ax.set_zlabel(\"z-axis\")\n",
    "\n",
    "plt.show()"
   ]
  },
  {
   "cell_type": "code",
   "execution_count": 19,
   "metadata": {},
   "outputs": [
    {
     "data": {
      "application/vnd.jupyter.widget-view+json": {
       "model_id": "8bb8f0383800419882d624b5fdf7f710",
       "version_major": 2,
       "version_minor": 0
      },
      "text/plain": [
       "FigureCanvasNbAgg()"
      ]
     },
     "metadata": {},
     "output_type": "display_data"
    }
   ],
   "source": [
    "cube.video_3D(vid_cam.trajectory, scale=1e-4, popout=3., perspective=1.)"
   ]
  },
  {
   "cell_type": "code",
   "execution_count": 20,
   "metadata": {},
   "outputs": [],
   "source": [
    "circ_cam = course([5,0,0])\n",
    "circ_cam.circle([0,5,0], 100)\n",
    "circ_cam.circle([0,0,5], 100)\n",
    "circ_cam.circle([5,0,0], 100)"
   ]
  },
  {
   "cell_type": "code",
   "execution_count": 21,
   "metadata": {},
   "outputs": [
    {
     "data": {
      "application/vnd.jupyter.widget-view+json": {
       "model_id": "9a84ecb08be1401d9aaf415ba64fc00e",
       "version_major": 2,
       "version_minor": 0
      },
      "text/plain": [
       "FigureCanvasNbAgg()"
      ]
     },
     "metadata": {},
     "output_type": "display_data"
    }
   ],
   "source": [
    "fig = plt.figure()\n",
    "ax = Axes3D(fig)\n",
    " \n",
    "\n",
    "ax.scatter(circ_cam.trajectory[:,0], circ_cam.trajectory[:,1], circ_cam.trajectory[:,2],\\\n",
    "            c=np.arange(circ_cam.trajectory.shape[0]), s=2)\n",
    "ax.scatter(data[:,0]*1e-4, data[:,1]*1e-4, data[:,2]*1e-4, c='k', s=0.1)\n",
    "\n",
    "ax.set_title(\"trajectory\")\n",
    "ax.set_xlabel(\"x-axis\")\n",
    "ax.set_ylabel(\"y-axis\")\n",
    "ax.set_zlabel(\"z-axis\")\n",
    "\n",
    "plt.show()"
   ]
  },
  {
   "cell_type": "code",
   "execution_count": 22,
   "metadata": {},
   "outputs": [
    {
     "data": {
      "application/vnd.jupyter.widget-view+json": {
       "model_id": "59dfa93e32aa49faa9a7aab0d12cfb01",
       "version_major": 2,
       "version_minor": 0
      },
      "text/plain": [
       "FigureCanvasNbAgg()"
      ]
     },
     "metadata": {},
     "output_type": "display_data"
    }
   ],
   "source": [
    "cube.video_3D(circ_cam.trajectory, scale=1e-4, popout=3., perspective=-1.)"
   ]
  },
  {
   "cell_type": "code",
   "execution_count": null,
   "metadata": {},
   "outputs": [],
   "source": []
  },
  {
   "cell_type": "code",
   "execution_count": null,
   "metadata": {},
   "outputs": [],
   "source": []
  }
 ],
 "metadata": {
  "kernelspec": {
   "display_name": "Python 3",
   "language": "python",
   "name": "python3"
  },
  "language_info": {
   "codemirror_mode": {
    "name": "ipython",
    "version": 3
   },
   "file_extension": ".py",
   "mimetype": "text/x-python",
   "name": "python",
   "nbconvert_exporter": "python",
   "pygments_lexer": "ipython3",
   "version": "3.6.10"
  }
 },
 "nbformat": 4,
 "nbformat_minor": 4
}
